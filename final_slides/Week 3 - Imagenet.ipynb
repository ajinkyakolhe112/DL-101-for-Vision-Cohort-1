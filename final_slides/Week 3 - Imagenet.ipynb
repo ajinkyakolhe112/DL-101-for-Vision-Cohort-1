{
 "cells": [
  {
   "cell_type": "code",
   "execution_count": 1,
   "metadata": {},
   "outputs": [],
   "source": [
    "\n",
    "# ! KEY CODE\n",
    "import datasets as huggingface_datasets\n",
    "import torchvision\n",
    "\n",
    "dataset = huggingface_datasets.load_dataset(\"zh-plus/tiny-imagenet\")\n",
    "print(huggingface_datasets.get_dataset_split_names(\"zh-plus/tiny-imagenet\"))\n",
    "\n",
    "training_dataset, validation_dataset = dataset['train'], dataset['valid']\n",
    "\n",
    "transformations_list = torchvision.transforms.Compose([\n",
    "        torchvision.transforms.ToTensor(),\n",
    "    ])\n",
    "\n",
    "def transform_datasets(examples):\n",
    "    examples[\"pixel_values\"] = []\n",
    "    \n",
    "    for image in examples['image']:\n",
    "        transformed_image = transformations_list(image)\n",
    "        examples['pixel_values'].append(transformed_image)\n",
    "    \n",
    "    return examples\n",
    " \n",
    "training_dataset.set_transform(transform_datasets)\n",
    "validation_dataset.set_transform(transform_datasets)"
   ]
  },
  {
   "cell_type": "code",
   "execution_count": 4,
   "metadata": {},
   "outputs": [
    {
     "data": {
      "application/vnd.jupyter.widget-view+json": {
       "model_id": "d68247fb79424c1592743bd39c56079b",
       "version_major": 2,
       "version_minor": 0
      },
      "text/plain": [
       "Downloading data files:   0%|          | 0/3 [00:00<?, ?it/s]"
      ]
     },
     "metadata": {},
     "output_type": "display_data"
    },
    {
     "data": {
      "application/vnd.jupyter.widget-view+json": {
       "model_id": "e9147b7dfe3a470e9d4047e0c33e338c",
       "version_major": 2,
       "version_minor": 0
      },
      "text/plain": [
       "Downloading data:   0%|          | 0.00/29.1G [00:00<?, ?B/s]"
      ]
     },
     "metadata": {},
     "output_type": "display_data"
    }
   ],
   "source": [
    "dataset = huggingface_datasets.load_dataset(\"imagenet-1k\")"
   ]
  },
  {
   "cell_type": "code",
   "execution_count": null,
   "metadata": {},
   "outputs": [],
   "source": []
  }
 ],
 "metadata": {
  "kernelspec": {
   "display_name": "base",
   "language": "python",
   "name": "python3"
  },
  "language_info": {
   "codemirror_mode": {
    "name": "ipython",
    "version": 3
   },
   "file_extension": ".py",
   "mimetype": "text/x-python",
   "name": "python",
   "nbconvert_exporter": "python",
   "pygments_lexer": "ipython3",
   "version": "3.9.13"
  }
 },
 "nbformat": 4,
 "nbformat_minor": 2
}
