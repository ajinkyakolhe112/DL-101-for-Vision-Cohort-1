{
 "cells": [
  {
   "cell_type": "code",
   "execution_count": 11,
   "metadata": {},
   "outputs": [
    {
     "name": "stdout",
     "output_type": "stream",
     "text": [
      "['train', 'valid']\n"
     ]
    }
   ],
   "source": [
    "\n",
    "# ! KEY CODE\n",
    "import datasets as huggingface_datasets\n",
    "import torchvision\n",
    "\n",
    "dataset = huggingface_datasets.load_dataset(\"zh-plus/tiny-imagenet\")\n",
    "print(huggingface_datasets.get_dataset_split_names(\"zh-plus/tiny-imagenet\"))\n",
    "training_dataset, validation_dataset = dataset['train'], dataset['valid']\n"
   ]
  },
  {
   "cell_type": "code",
   "execution_count": 18,
   "metadata": {},
   "outputs": [
    {
     "data": {
      "text/plain": [
       "{'image': <PIL.JpegImagePlugin.JpegImageFile image mode=RGB size=64x64>,\n",
       " 'label': 0}"
      ]
     },
     "execution_count": 18,
     "metadata": {},
     "output_type": "execute_result"
    }
   ],
   "source": [
    "training_dataset[10]"
   ]
  },
  {
   "cell_type": "code",
   "execution_count": 20,
   "metadata": {},
   "outputs": [],
   "source": [
    "\n",
    "transformations_list = torchvision.transforms.Compose([\n",
    "        torchvision.transforms.ToTensor(),\n",
    "    ])\n",
    "\n",
    "def transform_datasets(examples):\n",
    "    examples[\"converted_tensors\"] = []\n",
    "    \n",
    "    for image in examples['image']:\n",
    "        transformed_image = transformations_list(image)\n",
    "        examples['converted_tensors'].append(transformed_image)\n",
    "    \n",
    "    return examples\n",
    " \n",
    "training_dataset.set_transform(transform_datasets)\n",
    "validation_dataset.set_transform(transform_datasets)"
   ]
  },
  {
   "cell_type": "code",
   "execution_count": null,
   "metadata": {},
   "outputs": [],
   "source": [
    "from datasets import DownloadConfig\n",
    "ds = huggingface_datasets.load_dataset(\"imagenet-1k\", download_config=DownloadConfig(resume_download=True))"
   ]
  },
  {
   "cell_type": "code",
   "execution_count": 13,
   "metadata": {},
   "outputs": [],
   "source": [
    "example = training_dataset[0]"
   ]
  },
  {
   "cell_type": "code",
   "execution_count": 15,
   "metadata": {},
   "outputs": [
    {
     "data": {
      "image/png": "[encoded data removed]",
      "text/plain": [
       "<PIL.JpegImagePlugin.JpegImageFile image mode=RGB size=64x64>"
      ]
     },
     "execution_count": 15,
     "metadata": {},
     "output_type": "execute_result"
    }
   ],
   "source": [
    "example['image']"
   ]
  },
  {
   "cell_type": "code",
   "execution_count": 16,
   "metadata": {},
   "outputs": [
    {
     "data": {
      "text/plain": [
       "0"
      ]
     },
     "execution_count": 16,
     "metadata": {},
     "output_type": "execute_result"
    }
   ],
   "source": [
    "example['label']"
   ]
  },
  {
   "cell_type": "code",
   "execution_count": 17,
   "metadata": {},
   "outputs": [
    {
     "data": {
      "text/plain": [
       "{'image': <PIL.JpegImagePlugin.JpegImageFile image mode=RGB size=64x64>,\n",
       " 'label': 0}"
      ]
     },
     "execution_count": 17,
     "metadata": {},
     "output_type": "execute_result"
    }
   ],
   "source": [
    "example"
   ]
  },
  {
   "cell_type": "code",
   "execution_count": 25,
   "metadata": {},
   "outputs": [
    {
     "name": "stdout",
     "output_type": "stream",
     "text": [
      "==============================================================================================================================================================================================\n",
      "Layer (type:depth-idx)                   Input Shape               Output Shape              Kernel Shape              Param #                   Trainable                 Param %\n",
      "==============================================================================================================================================================================================\n",
      "Sequential                               [1, 3, 64, 64]            [1, 10]                   --                        --                        True                           --\n",
      "├─Conv2d: 1-1                            [1, 3, 64, 64]            [1, 50, 1, 1]             [64, 64]                  614,450                   True                       99.92%\n",
      "│    └─weight                                                                                [3, 50, 64, 64]           ├─614,400\n",
      "│    └─bias                                                                                  [50]                      └─50\n",
      "├─ReLU: 1-2                              [1, 50, 1, 1]             [1, 50, 1, 1]             --                        --                        --                             --\n",
      "├─Flatten: 1-3                           [1, 50, 1, 1]             [1, 50]                   --                        --                        --                             --\n",
      "├─Linear: 1-4                            [1, 50]                   [1, 10]                   --                        510                       True                        0.08%\n",
      "│    └─weight                                                                                [50, 10]                  ├─500\n",
      "│    └─bias                                                                                  [10]                      └─10\n",
      "==============================================================================================================================================================================================\n",
      "Total params: 614,960\n",
      "Trainable params: 614,960\n",
      "Non-trainable params: 0\n",
      "Total mult-adds (M): 0.61\n",
      "==============================================================================================================================================================================================\n",
      "Input size (MB): 0.05\n",
      "Forward/backward pass size (MB): 0.00\n",
      "Params size (MB): 2.46\n",
      "Estimated Total Size (MB): 2.51\n",
      "==============================================================================================================================================================================================\n"
     ]
    },
    {
     "name": "stderr",
     "output_type": "stream",
     "text": [
      "/Users/ajinkya/opt/anaconda3/lib/python3.9/site-packages/torchinfo/torchinfo.py:477: UserWarning: TypedStorage is deprecated. It will be removed in the future and UntypedStorage will be the only storage class. This should only matter to you if you are using storages directly.  To access UntypedStorage directly, use tensor.untyped_storage() instead of tensor.storage()\n",
      "  action_fn=lambda data: sys.getsizeof(data.storage()),\n"
     ]
    }
   ],
   "source": [
    "import torch, torch.nn as nn\n",
    "from torchinfo import summary\n",
    "\n",
    "simple_model = nn.Sequential(\n",
    "    nn.Conv2d(out_channels = 50, in_channels = 3, kernel_size = (64, 64) ),\n",
    "    nn.ReLU(),\n",
    "\n",
    "    nn.Flatten(start_dim=1),\n",
    "    \n",
    "    nn.Linear(out_features = 10, in_features = 50)\n",
    ")\n",
    "\n",
    "from torchinfo import summary\n",
    "summary(simple_model, input_size=(1,3,64,64), \n",
    "        verbose=2, col_names = [\"input_size\", \"output_size\",\"kernel_size\", \"num_params\",\"trainable\", \"params_percent\"]);"
   ]
  },
  {
   "cell_type": "code",
   "execution_count": null,
   "metadata": {},
   "outputs": [],
   "source": [
    "import torch, torch.nn as nn\n",
    "\n",
    "class Custom_Model(nn.Module):\n",
    "\n",
    "    def __init__(self):\n",
    "        super().__init__()\n",
    "        self.layer1 = nn.Conv2d(out_channels = 5, in_channels = 3, kernel_size = (64, 64) )\n",
    "        self.layer2 = nn.Linear(out_features = 8, in_features = 5)\n",
    "\n",
    "    def forward(self, input_batch):\n",
    "        layer1_output = self.layer1(input_batch)\n",
    "        # layer1_output = torch.dot(input_batch, self.layer1.weight)\n",
    "\n",
    "        activation_function_output = nn.functional.relu(layer1_output)\n",
    "\n",
    "        layer2_output = self.layer2(activation_function_output)\n",
    "        activation_function_output = nn.functional.relu(layer2_output)\n",
    "\n",
    "        return activation_function_output\n",
    "\n",
    "model = Custom_Model()\n",
    "\n",
    "single_random_batch = torch.randn(1,3,64,64)\n",
    "model(single_random_batch)"
   ]
  }
 ],
 "metadata": {
  "kernelspec": {
   "display_name": "base",
   "language": "python",
   "name": "python3"
  },
  "language_info": {
   "codemirror_mode": {
    "name": "ipython",
    "version": 3
   },
   "file_extension": ".py",
   "mimetype": "text/x-python",
   "name": "python",
   "nbconvert_exporter": "python",
   "pygments_lexer": "ipython3",
   "version": "3.9.13"
  }
 },
 "nbformat": 4,
 "nbformat_minor": 2
}
