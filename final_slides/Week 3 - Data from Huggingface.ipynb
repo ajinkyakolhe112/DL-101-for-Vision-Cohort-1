{
 "cells": [
  {
   "cell_type": "code",
   "execution_count": null,
   "metadata": {},
   "outputs": [],
   "source": [
    "\n",
    "# ! KEY CODE\n",
    "import datasets as huggingface_datasets\n",
    "import torchvision\n",
    "\n",
    "dataset = huggingface_datasets.load_dataset(\"zh-plus/tiny-imagenet\")\n",
    "print(huggingface_datasets.get_dataset_split_names(\"zh-plus/tiny-imagenet\"))\n",
    "training_dataset, validation_dataset = dataset['train'], dataset['valid']\n",
    "\n",
    "\n",
    "transformations_list = torchvision.transforms.Compose([\n",
    "        torchvision.transforms.ToTensor(),\n",
    "    ])\n",
    "\n",
    "def transform_datasets(examples):\n",
    "    examples[\"converted_tensors\"] = []\n",
    "    \n",
    "    for image in examples['image']:\n",
    "        transformed_image = transformations_list(image)\n",
    "        examples['converted_tensors'].append(transformed_image)\n",
    "    \n",
    "    return examples\n",
    " \n",
    "training_dataset.set_transform(transform_datasets)\n",
    "validation_dataset.set_transform(transform_datasets)"
   ]
  }
 ],
 "metadata": {
  "language_info": {
   "name": "python"
  }
 },
 "nbformat": 4,
 "nbformat_minor": 2
}
