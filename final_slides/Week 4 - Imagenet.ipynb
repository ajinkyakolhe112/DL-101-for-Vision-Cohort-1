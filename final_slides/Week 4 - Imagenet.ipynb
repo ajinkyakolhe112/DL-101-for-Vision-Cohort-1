{
 "cells": [
  {
   "cell_type": "code",
   "execution_count": null,
   "metadata": {},
   "outputs": [],
   "source": [
    "# ! KEY CODE\n",
    "from datasets import load_dataset, get_dataset_split_names\n",
    "import datasets as huggingface_datasets\n",
    "\n",
    "dataset = load_dataset(\"ajinkyakolhe112/imagenet_10c_tiny\")\n",
    "# dataset = load_dataset(\"imagenet-1k\")\n",
    "# get_dataset_split_names(\"imagenet-1k\")"
   ]
  },
  {
   "cell_type": "code",
   "execution_count": null,
   "metadata": {},
   "outputs": [],
   "source": [
    "train_images = dataset[:]['image']\n",
    "train_labels = dataset[:]['label']"
   ]
  },
  {
   "cell_type": "code",
   "execution_count": null,
   "metadata": {},
   "outputs": [],
   "source": [
    "import ipyplot\n",
    "\n",
    "ipyplot.plot_class_tabs(train_images, train_labels, max_imgs_per_tab=10)"
   ]
  },
  {
   "cell_type": "code",
   "execution_count": null,
   "metadata": {},
   "outputs": [],
   "source": [
    "import pandas as pd\n",
    "df = pd.DataFrame(train_labels)\n",
    "\n",
    "df.groupby(df.columns.tolist(),as_index=False).size()"
   ]
  },
  {
   "cell_type": "markdown",
   "metadata": {},
   "source": [
    "## Vision\n",
    "### current **Standard** Base Models\n",
    "1. AlexNet\n",
    "2. VGG\n",
    "3. Inception V2\n",
    "4. Resnet\n",
    "5. EfficientNet\n",
    "6. SqueezeNet\n",
    "7. DenseNet\n",
    "8. Vision Transformer (ViTs)\n",
    "9. ConvNeXTs\n",
    "\n",
    "(torchvision models or huggingface timm or huggingface transformers or keras-core or kaggle models)\n",
    "\n",
    "## NLP\n",
    "### current **Standard** Base Models\n",
    "- BERT\n",
    "- GPT\n",
    "- "
   ]
  },
  {
   "cell_type": "markdown",
   "metadata": {},
   "source": []
  }
 ],
 "metadata": {
  "kernelspec": {
   "display_name": "base",
   "language": "python",
   "name": "python3"
  },
  "language_info": {
   "codemirror_mode": {
    "name": "ipython",
    "version": 3
   },
   "file_extension": ".py",
   "mimetype": "text/x-python",
   "name": "python",
   "nbconvert_exporter": "python",
   "pygments_lexer": "ipython3",
   "version": "3.9.13"
  }
 },
 "nbformat": 4,
 "nbformat_minor": 2
}
