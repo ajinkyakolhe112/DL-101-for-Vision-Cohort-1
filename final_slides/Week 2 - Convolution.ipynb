{
 "cells": [
  {
   "cell_type": "code",
   "execution_count": 1,
   "metadata": {},
   "outputs": [],
   "source": [
    "import torch, torch.nn as nn\n",
    "\n",
    "# TODO: MODEL \n",
    "feature_extractor = nn.Sequential(\n",
    "    nn.Conv2d( out_channels = 50, in_channels = 1, kernel_size = (3,3) , padding=\"same\"),\n",
    "    nn.ReLU(),\n",
    "    nn.MaxPool2d(kernel_size=(2,2), stride = 2),\n",
    "  \n",
    "    nn.Conv2d(out_channels = 100, in_channels = 50, kernel_size = (3,3), padding=\"same\"),\n",
    "    nn.ReLU(),\n",
    "    nn.MaxPool2d(kernel_size=(2,2), stride = 2),\n",
    "\n",
    ")\n",
    "\n",
    "decision_maker = nn.Sequential(\n",
    "  nn.Linear(out_features = 50, in_features = 100*7*7 ),\n",
    "  nn.Linear(out_features = 10, in_features = 50)\n",
    ")\n",
    "\n",
    "model = nn.Sequential(\n",
    "  feature_extractor,\n",
    "  decision_maker\n",
    ")"
   ]
  },
  {
   "cell_type": "code",
   "execution_count": null,
   "metadata": {},
   "outputs": [],
   "source": []
  }
 ],
 "metadata": {
  "kernelspec": {
   "display_name": "base",
   "language": "python",
   "name": "python3"
  },
  "language_info": {
   "codemirror_mode": {
    "name": "ipython",
    "version": 3
   },
   "file_extension": ".py",
   "mimetype": "text/x-python",
   "name": "python",
   "nbconvert_exporter": "python",
   "pygments_lexer": "ipython3",
   "version": "3.9.13"
  }
 },
 "nbformat": 4,
 "nbformat_minor": 2
}
