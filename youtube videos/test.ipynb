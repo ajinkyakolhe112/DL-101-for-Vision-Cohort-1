{
 "cells": [
  {
   "cell_type": "code",
   "execution_count": 1,
   "id": "fde02fec-db4b-4ea0-ba15-f568ea8e1785",
   "metadata": {},
   "outputs": [
    {
     "name": "stdout",
     "output_type": "stream",
     "text": [
      "hi\n"
     ]
    }
   ],
   "source": [
    "print(\"hi\")"
   ]
  },
  {
   "cell_type": "markdown",
   "id": "3a9fed19-e5df-4bfe-8c78-b029c295f6a0",
   "metadata": {
    "slideshow": {
     "slide_type": "slide"
    },
    "tags": []
   },
   "source": [
    "## Agenda\n",
    "- Coding != Deep Learning\n",
    "- Neural Networks as Programming or Maths\n",
    "- Two Popular Approaches of Learning\n",
    "- Learning Resources & Learning Plan\n",
    "- Jargons & Jargons\n",
    "- Overview of Deep Learning"
   ]
  },
  {
   "cell_type": "code",
   "execution_count": null,
   "id": "e1ea8f56-ff01-4fcb-ac03-e1f0e112b619",
   "metadata": {},
   "outputs": [],
   "source": []
  }
 ],
 "metadata": {
  "kernelspec": {
   "display_name": "Python 3 (ipykernel)",
   "language": "python",
   "name": "python3"
  },
  "language_info": {
   "codemirror_mode": {
    "name": "ipython",
    "version": 3
   },
   "file_extension": ".py",
   "mimetype": "text/x-python",
   "name": "python",
   "nbconvert_exporter": "python",
   "pygments_lexer": "ipython3",
   "version": "3.9.13"
  }
 },
 "nbformat": 4,
 "nbformat_minor": 5
}
